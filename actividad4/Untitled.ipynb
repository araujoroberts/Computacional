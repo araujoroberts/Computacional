{
 "cells": [
  {
   "cell_type": "code",
   "execution_count": 2,
   "metadata": {},
   "outputs": [],
   "source": [
    "import pandas as pd\n",
    "import numpy as np\n",
    "import matplotlib.pyplot as plt\n",
    "import seaborn as sns\n",
    "import calendar"
   ]
  },
  {
   "cell_type": "code",
   "execution_count": 3,
   "metadata": {},
   "outputs": [],
   "source": [
    "sentinels = {'PRECIP': ['Nulo'], 'EVAP': ['Nulo'], 'TMAX': ['Nulo'],'TMIN': ['Nulo']}"
   ]
  },
  {
   "cell_type": "code",
   "execution_count": 4,
   "metadata": {},
   "outputs": [],
   "source": [
    "datos_df = pd.read_csv(\"cajeme.txt\",skiprows=0, sep='\\s+',na_values=sentinels)"
   ]
  },
  {
   "cell_type": "code",
   "execution_count": 5,
   "metadata": {},
   "outputs": [],
   "source": [
    "df = pd.DataFrame(datos_df)"
   ]
  },
  {
   "cell_type": "code",
   "execution_count": 6,
   "metadata": {},
   "outputs": [],
   "source": [
    "df['FECHAN'] = pd.to_datetime(df.apply(lambda x: x['FECHA'], 1), dayfirst=True)\n",
    "df = df.drop(['FECHA'], 1)"
   ]
  },
  {
   "cell_type": "code",
   "execution_count": 7,
   "metadata": {},
   "outputs": [
    {
     "data": {
      "text/plain": [
       "PRECIP           float64\n",
       "EVAP             float64\n",
       "TMAX             float64\n",
       "TMIN             float64\n",
       "FECHAN    datetime64[ns]\n",
       "dtype: object"
      ]
     },
     "execution_count": 7,
     "metadata": {},
     "output_type": "execute_result"
    }
   ],
   "source": [
    "df.dtypes"
   ]
  },
  {
   "cell_type": "code",
   "execution_count": 8,
   "metadata": {},
   "outputs": [
    {
     "data": {
      "text/html": [
       "<div>\n",
       "<style scoped>\n",
       "    .dataframe tbody tr th:only-of-type {\n",
       "        vertical-align: middle;\n",
       "    }\n",
       "\n",
       "    .dataframe tbody tr th {\n",
       "        vertical-align: top;\n",
       "    }\n",
       "\n",
       "    .dataframe thead th {\n",
       "        text-align: right;\n",
       "    }\n",
       "</style>\n",
       "<table border=\"1\" class=\"dataframe\">\n",
       "  <thead>\n",
       "    <tr style=\"text-align: right;\">\n",
       "      <th></th>\n",
       "      <th>PRECIP</th>\n",
       "      <th>EVAP</th>\n",
       "      <th>TMAX</th>\n",
       "      <th>TMIN</th>\n",
       "    </tr>\n",
       "  </thead>\n",
       "  <tbody>\n",
       "    <tr>\n",
       "      <th>count</th>\n",
       "      <td>10531.000000</td>\n",
       "      <td>7324.000000</td>\n",
       "      <td>10503.000000</td>\n",
       "      <td>10514.000000</td>\n",
       "    </tr>\n",
       "    <tr>\n",
       "      <th>mean</th>\n",
       "      <td>0.894511</td>\n",
       "      <td>5.814091</td>\n",
       "      <td>32.601047</td>\n",
       "      <td>14.880873</td>\n",
       "    </tr>\n",
       "    <tr>\n",
       "      <th>std</th>\n",
       "      <td>5.948456</td>\n",
       "      <td>2.431426</td>\n",
       "      <td>5.770682</td>\n",
       "      <td>6.881583</td>\n",
       "    </tr>\n",
       "    <tr>\n",
       "      <th>min</th>\n",
       "      <td>0.000000</td>\n",
       "      <td>0.200000</td>\n",
       "      <td>13.000000</td>\n",
       "      <td>-2.500000</td>\n",
       "    </tr>\n",
       "    <tr>\n",
       "      <th>25%</th>\n",
       "      <td>0.000000</td>\n",
       "      <td>3.900000</td>\n",
       "      <td>28.000000</td>\n",
       "      <td>9.000000</td>\n",
       "    </tr>\n",
       "    <tr>\n",
       "      <th>50%</th>\n",
       "      <td>0.000000</td>\n",
       "      <td>5.500000</td>\n",
       "      <td>33.000000</td>\n",
       "      <td>13.000000</td>\n",
       "    </tr>\n",
       "    <tr>\n",
       "      <th>75%</th>\n",
       "      <td>0.000000</td>\n",
       "      <td>7.600000</td>\n",
       "      <td>37.500000</td>\n",
       "      <td>22.000000</td>\n",
       "    </tr>\n",
       "    <tr>\n",
       "      <th>max</th>\n",
       "      <td>184.500000</td>\n",
       "      <td>14.900000</td>\n",
       "      <td>47.500000</td>\n",
       "      <td>29.000000</td>\n",
       "    </tr>\n",
       "  </tbody>\n",
       "</table>\n",
       "</div>"
      ],
      "text/plain": [
       "             PRECIP         EVAP          TMAX          TMIN\n",
       "count  10531.000000  7324.000000  10503.000000  10514.000000\n",
       "mean       0.894511     5.814091     32.601047     14.880873\n",
       "std        5.948456     2.431426      5.770682      6.881583\n",
       "min        0.000000     0.200000     13.000000     -2.500000\n",
       "25%        0.000000     3.900000     28.000000      9.000000\n",
       "50%        0.000000     5.500000     33.000000     13.000000\n",
       "75%        0.000000     7.600000     37.500000     22.000000\n",
       "max      184.500000    14.900000     47.500000     29.000000"
      ]
     },
     "execution_count": 8,
     "metadata": {},
     "output_type": "execute_result"
    }
   ],
   "source": [
    "df.describe()"
   ]
  },
  {
   "cell_type": "code",
   "execution_count": 9,
   "metadata": {},
   "outputs": [],
   "source": [
    "df['MES'] = df['FECHAN'].dt.month\n",
    "df['AÑO'] = df['FECHAN'].dt.year"
   ]
  },
  {
   "cell_type": "code",
   "execution_count": 10,
   "metadata": {},
   "outputs": [
    {
     "data": {
      "text/html": [
       "<div>\n",
       "<style scoped>\n",
       "    .dataframe tbody tr th:only-of-type {\n",
       "        vertical-align: middle;\n",
       "    }\n",
       "\n",
       "    .dataframe tbody tr th {\n",
       "        vertical-align: top;\n",
       "    }\n",
       "\n",
       "    .dataframe thead th {\n",
       "        text-align: right;\n",
       "    }\n",
       "</style>\n",
       "<table border=\"1\" class=\"dataframe\">\n",
       "  <thead>\n",
       "    <tr style=\"text-align: right;\">\n",
       "      <th></th>\n",
       "      <th>PRECIP</th>\n",
       "      <th>EVAP</th>\n",
       "      <th>TMAX</th>\n",
       "      <th>TMIN</th>\n",
       "      <th>MES</th>\n",
       "      <th>AÑO</th>\n",
       "    </tr>\n",
       "  </thead>\n",
       "  <tbody>\n",
       "    <tr>\n",
       "      <th>count</th>\n",
       "      <td>10531.000000</td>\n",
       "      <td>7324.000000</td>\n",
       "      <td>10503.000000</td>\n",
       "      <td>10514.000000</td>\n",
       "      <td>10531.000000</td>\n",
       "      <td>10531.000000</td>\n",
       "    </tr>\n",
       "    <tr>\n",
       "      <th>mean</th>\n",
       "      <td>0.894511</td>\n",
       "      <td>5.814091</td>\n",
       "      <td>32.601047</td>\n",
       "      <td>14.880873</td>\n",
       "      <td>6.433102</td>\n",
       "      <td>1996.528915</td>\n",
       "    </tr>\n",
       "    <tr>\n",
       "      <th>std</th>\n",
       "      <td>5.948456</td>\n",
       "      <td>2.431426</td>\n",
       "      <td>5.770682</td>\n",
       "      <td>6.881583</td>\n",
       "      <td>3.503432</td>\n",
       "      <td>9.128480</td>\n",
       "    </tr>\n",
       "    <tr>\n",
       "      <th>min</th>\n",
       "      <td>0.000000</td>\n",
       "      <td>0.200000</td>\n",
       "      <td>13.000000</td>\n",
       "      <td>-2.500000</td>\n",
       "      <td>1.000000</td>\n",
       "      <td>1980.000000</td>\n",
       "    </tr>\n",
       "    <tr>\n",
       "      <th>25%</th>\n",
       "      <td>0.000000</td>\n",
       "      <td>3.900000</td>\n",
       "      <td>28.000000</td>\n",
       "      <td>9.000000</td>\n",
       "      <td>3.000000</td>\n",
       "      <td>1990.000000</td>\n",
       "    </tr>\n",
       "    <tr>\n",
       "      <th>50%</th>\n",
       "      <td>0.000000</td>\n",
       "      <td>5.500000</td>\n",
       "      <td>33.000000</td>\n",
       "      <td>13.000000</td>\n",
       "      <td>6.000000</td>\n",
       "      <td>1997.000000</td>\n",
       "    </tr>\n",
       "    <tr>\n",
       "      <th>75%</th>\n",
       "      <td>0.000000</td>\n",
       "      <td>7.600000</td>\n",
       "      <td>37.500000</td>\n",
       "      <td>22.000000</td>\n",
       "      <td>10.000000</td>\n",
       "      <td>2004.000000</td>\n",
       "    </tr>\n",
       "    <tr>\n",
       "      <th>max</th>\n",
       "      <td>184.500000</td>\n",
       "      <td>14.900000</td>\n",
       "      <td>47.500000</td>\n",
       "      <td>29.000000</td>\n",
       "      <td>12.000000</td>\n",
       "      <td>2011.000000</td>\n",
       "    </tr>\n",
       "  </tbody>\n",
       "</table>\n",
       "</div>"
      ],
      "text/plain": [
       "             PRECIP         EVAP          TMAX          TMIN           MES  \\\n",
       "count  10531.000000  7324.000000  10503.000000  10514.000000  10531.000000   \n",
       "mean       0.894511     5.814091     32.601047     14.880873      6.433102   \n",
       "std        5.948456     2.431426      5.770682      6.881583      3.503432   \n",
       "min        0.000000     0.200000     13.000000     -2.500000      1.000000   \n",
       "25%        0.000000     3.900000     28.000000      9.000000      3.000000   \n",
       "50%        0.000000     5.500000     33.000000     13.000000      6.000000   \n",
       "75%        0.000000     7.600000     37.500000     22.000000     10.000000   \n",
       "max      184.500000    14.900000     47.500000     29.000000     12.000000   \n",
       "\n",
       "                AÑO  \n",
       "count  10531.000000  \n",
       "mean    1996.528915  \n",
       "std        9.128480  \n",
       "min     1980.000000  \n",
       "25%     1990.000000  \n",
       "50%     1997.000000  \n",
       "75%     2004.000000  \n",
       "max     2011.000000  "
      ]
     },
     "execution_count": 10,
     "metadata": {},
     "output_type": "execute_result"
    }
   ],
   "source": [
    "df.describe()"
   ]
  },
  {
   "cell_type": "code",
   "execution_count": 11,
   "metadata": {},
   "outputs": [
    {
     "data": {
      "text/html": [
       "<div>\n",
       "<style scoped>\n",
       "    .dataframe tbody tr th:only-of-type {\n",
       "        vertical-align: middle;\n",
       "    }\n",
       "\n",
       "    .dataframe tbody tr th {\n",
       "        vertical-align: top;\n",
       "    }\n",
       "\n",
       "    .dataframe thead th {\n",
       "        text-align: right;\n",
       "    }\n",
       "</style>\n",
       "<table border=\"1\" class=\"dataframe\">\n",
       "  <thead>\n",
       "    <tr style=\"text-align: right;\">\n",
       "      <th></th>\n",
       "      <th>PRECIP</th>\n",
       "      <th>EVAP</th>\n",
       "      <th>TMAX</th>\n",
       "      <th>TMIN</th>\n",
       "      <th>FECHAN</th>\n",
       "      <th>MES</th>\n",
       "      <th>AÑO</th>\n",
       "    </tr>\n",
       "  </thead>\n",
       "  <tbody>\n",
       "    <tr>\n",
       "      <th>0</th>\n",
       "      <td>0.0</td>\n",
       "      <td>1.2</td>\n",
       "      <td>25.0</td>\n",
       "      <td>7.0</td>\n",
       "      <td>1980-01-01</td>\n",
       "      <td>1</td>\n",
       "      <td>1980</td>\n",
       "    </tr>\n",
       "    <tr>\n",
       "      <th>1</th>\n",
       "      <td>0.0</td>\n",
       "      <td>1.7</td>\n",
       "      <td>22.0</td>\n",
       "      <td>8.0</td>\n",
       "      <td>1980-01-02</td>\n",
       "      <td>1</td>\n",
       "      <td>1980</td>\n",
       "    </tr>\n",
       "    <tr>\n",
       "      <th>2</th>\n",
       "      <td>0.0</td>\n",
       "      <td>1.9</td>\n",
       "      <td>25.0</td>\n",
       "      <td>9.0</td>\n",
       "      <td>1980-01-03</td>\n",
       "      <td>1</td>\n",
       "      <td>1980</td>\n",
       "    </tr>\n",
       "    <tr>\n",
       "      <th>3</th>\n",
       "      <td>0.0</td>\n",
       "      <td>1.8</td>\n",
       "      <td>26.0</td>\n",
       "      <td>6.0</td>\n",
       "      <td>1980-01-04</td>\n",
       "      <td>1</td>\n",
       "      <td>1980</td>\n",
       "    </tr>\n",
       "    <tr>\n",
       "      <th>4</th>\n",
       "      <td>0.0</td>\n",
       "      <td>2.0</td>\n",
       "      <td>26.0</td>\n",
       "      <td>4.0</td>\n",
       "      <td>1980-01-05</td>\n",
       "      <td>1</td>\n",
       "      <td>1980</td>\n",
       "    </tr>\n",
       "  </tbody>\n",
       "</table>\n",
       "</div>"
      ],
      "text/plain": [
       "   PRECIP  EVAP  TMAX  TMIN     FECHAN  MES   AÑO\n",
       "0     0.0   1.2  25.0   7.0 1980-01-01    1  1980\n",
       "1     0.0   1.7  22.0   8.0 1980-01-02    1  1980\n",
       "2     0.0   1.9  25.0   9.0 1980-01-03    1  1980\n",
       "3     0.0   1.8  26.0   6.0 1980-01-04    1  1980\n",
       "4     0.0   2.0  26.0   4.0 1980-01-05    1  1980"
      ]
     },
     "execution_count": 11,
     "metadata": {},
     "output_type": "execute_result"
    }
   ],
   "source": [
    "df.head()"
   ]
  },
  {
   "cell_type": "code",
   "execution_count": 12,
   "metadata": {},
   "outputs": [],
   "source": [
    "#Para el número de años\n",
    "NumA = len(df['AÑO'].unique())"
   ]
  },
  {
   "cell_type": "code",
   "execution_count": 13,
   "metadata": {},
   "outputs": [],
   "source": [
    "#Creando arreglo de meses y promedio de datos mensual\n",
    "init = 1\n",
    "MESES = [init + i for i in range(0, 12)]\n",
    "PRECIPMESPROM = [df[df.MES==(init + i)].PRECIP.sum()/NumA for i in range (0,12)]\n",
    "TMAXMESPROM = [df[df.MES==(init + i)].TMAX.mean() for i in range (0,12)]\n",
    "TMINMESPROM = [df[df.MES==(init + i)].TMIN.mean() for i in range (0,12)]"
   ]
  },
  {
   "cell_type": "code",
   "execution_count": 14,
   "metadata": {},
   "outputs": [
    {
     "data": {
      "text/html": [
       "<div>\n",
       "<style scoped>\n",
       "    .dataframe tbody tr th:only-of-type {\n",
       "        vertical-align: middle;\n",
       "    }\n",
       "\n",
       "    .dataframe tbody tr th {\n",
       "        vertical-align: top;\n",
       "    }\n",
       "\n",
       "    .dataframe thead th {\n",
       "        text-align: right;\n",
       "    }\n",
       "</style>\n",
       "<table border=\"1\" class=\"dataframe\">\n",
       "  <thead>\n",
       "    <tr style=\"text-align: right;\">\n",
       "      <th></th>\n",
       "      <th>MES</th>\n",
       "      <th>PRECIPPROM</th>\n",
       "      <th>TMAXPROM</th>\n",
       "      <th>TMINPROM</th>\n",
       "    </tr>\n",
       "  </thead>\n",
       "  <tbody>\n",
       "    <tr>\n",
       "      <th>0</th>\n",
       "      <td>1</td>\n",
       "      <td>24.140625</td>\n",
       "      <td>25.384577</td>\n",
       "      <td>7.488407</td>\n",
       "    </tr>\n",
       "    <tr>\n",
       "      <th>1</th>\n",
       "      <td>2</td>\n",
       "      <td>10.696875</td>\n",
       "      <td>26.821084</td>\n",
       "      <td>8.010216</td>\n",
       "    </tr>\n",
       "    <tr>\n",
       "      <th>2</th>\n",
       "      <td>3</td>\n",
       "      <td>2.359375</td>\n",
       "      <td>29.330208</td>\n",
       "      <td>8.960458</td>\n",
       "    </tr>\n",
       "    <tr>\n",
       "      <th>3</th>\n",
       "      <td>4</td>\n",
       "      <td>1.493750</td>\n",
       "      <td>32.628308</td>\n",
       "      <td>11.103448</td>\n",
       "    </tr>\n",
       "    <tr>\n",
       "      <th>4</th>\n",
       "      <td>5</td>\n",
       "      <td>0.584375</td>\n",
       "      <td>35.624851</td>\n",
       "      <td>14.390681</td>\n",
       "    </tr>\n",
       "    <tr>\n",
       "      <th>5</th>\n",
       "      <td>6</td>\n",
       "      <td>3.484375</td>\n",
       "      <td>38.114710</td>\n",
       "      <td>20.225309</td>\n",
       "    </tr>\n",
       "    <tr>\n",
       "      <th>6</th>\n",
       "      <td>7</td>\n",
       "      <td>60.290625</td>\n",
       "      <td>38.273653</td>\n",
       "      <td>24.048984</td>\n",
       "    </tr>\n",
       "    <tr>\n",
       "      <th>7</th>\n",
       "      <td>8</td>\n",
       "      <td>66.834375</td>\n",
       "      <td>38.229527</td>\n",
       "      <td>24.323733</td>\n",
       "    </tr>\n",
       "    <tr>\n",
       "      <th>8</th>\n",
       "      <td>9</td>\n",
       "      <td>76.212500</td>\n",
       "      <td>37.452819</td>\n",
       "      <td>23.237356</td>\n",
       "    </tr>\n",
       "    <tr>\n",
       "      <th>9</th>\n",
       "      <td>10</td>\n",
       "      <td>21.475000</td>\n",
       "      <td>35.120824</td>\n",
       "      <td>18.449944</td>\n",
       "    </tr>\n",
       "    <tr>\n",
       "      <th>10</th>\n",
       "      <td>11</td>\n",
       "      <td>10.850000</td>\n",
       "      <td>30.697259</td>\n",
       "      <td>12.217857</td>\n",
       "    </tr>\n",
       "    <tr>\n",
       "      <th>11</th>\n",
       "      <td>12</td>\n",
       "      <td>15.956250</td>\n",
       "      <td>25.454900</td>\n",
       "      <td>8.193764</td>\n",
       "    </tr>\n",
       "  </tbody>\n",
       "</table>\n",
       "</div>"
      ],
      "text/plain": [
       "    MES  PRECIPPROM   TMAXPROM   TMINPROM\n",
       "0     1   24.140625  25.384577   7.488407\n",
       "1     2   10.696875  26.821084   8.010216\n",
       "2     3    2.359375  29.330208   8.960458\n",
       "3     4    1.493750  32.628308  11.103448\n",
       "4     5    0.584375  35.624851  14.390681\n",
       "5     6    3.484375  38.114710  20.225309\n",
       "6     7   60.290625  38.273653  24.048984\n",
       "7     8   66.834375  38.229527  24.323733\n",
       "8     9   76.212500  37.452819  23.237356\n",
       "9    10   21.475000  35.120824  18.449944\n",
       "10   11   10.850000  30.697259  12.217857\n",
       "11   12   15.956250  25.454900   8.193764"
      ]
     },
     "execution_count": 14,
     "metadata": {},
     "output_type": "execute_result"
    }
   ],
   "source": [
    "#Creando dataframe para promedios mensuales\n",
    "datos_mensual = {'MES': MESES, 'PRECIPPROM': PRECIPMESPROM, 'TMAXPROM': TMAXMESPROM, 'TMINPROM': TMINMESPROM}\n",
    "df_mensual = pd.DataFrame(data=datos_mensual)\n",
    "df_mensual"
   ]
  },
  {
   "cell_type": "code",
   "execution_count": 15,
   "metadata": {},
   "outputs": [],
   "source": [
    "#Creando arreglo de años y promedio de datos anuales\n",
    "init = 1980\n",
    "AÑOS = [init + i for i in range(0, 32)]\n",
    "PRECIPANUALPROM = [df[df.AÑO==(init + i)].PRECIP.mean() for i in range (0,32)]\n",
    "TMAXANUALPROM = [df[df.AÑO==(init + i)].TMAX.mean() for i in range (0,32)]\n",
    "TMINANUALPROM = [df[df.AÑO==(init + i)].TMIN.mean() for i in range (0,32)]"
   ]
  },
  {
   "cell_type": "code",
   "execution_count": 16,
   "metadata": {},
   "outputs": [
    {
     "data": {
      "text/html": [
       "<div>\n",
       "<style scoped>\n",
       "    .dataframe tbody tr th:only-of-type {\n",
       "        vertical-align: middle;\n",
       "    }\n",
       "\n",
       "    .dataframe tbody tr th {\n",
       "        vertical-align: top;\n",
       "    }\n",
       "\n",
       "    .dataframe thead th {\n",
       "        text-align: right;\n",
       "    }\n",
       "</style>\n",
       "<table border=\"1\" class=\"dataframe\">\n",
       "  <thead>\n",
       "    <tr style=\"text-align: right;\">\n",
       "      <th></th>\n",
       "      <th>AÑO</th>\n",
       "      <th>PRECIPPROM</th>\n",
       "      <th>TMAXPROM</th>\n",
       "      <th>TMINPROM</th>\n",
       "    </tr>\n",
       "  </thead>\n",
       "  <tbody>\n",
       "    <tr>\n",
       "      <th>0</th>\n",
       "      <td>1980</td>\n",
       "      <td>0.498634</td>\n",
       "      <td>31.431694</td>\n",
       "      <td>16.181694</td>\n",
       "    </tr>\n",
       "    <tr>\n",
       "      <th>1</th>\n",
       "      <td>1981</td>\n",
       "      <td>1.308219</td>\n",
       "      <td>31.073973</td>\n",
       "      <td>16.008219</td>\n",
       "    </tr>\n",
       "    <tr>\n",
       "      <th>2</th>\n",
       "      <td>1982</td>\n",
       "      <td>0.595890</td>\n",
       "      <td>31.394521</td>\n",
       "      <td>14.813699</td>\n",
       "    </tr>\n",
       "    <tr>\n",
       "      <th>3</th>\n",
       "      <td>1983</td>\n",
       "      <td>0.770833</td>\n",
       "      <td>27.158333</td>\n",
       "      <td>8.800000</td>\n",
       "    </tr>\n",
       "    <tr>\n",
       "      <th>4</th>\n",
       "      <td>1984</td>\n",
       "      <td>2.107273</td>\n",
       "      <td>30.625455</td>\n",
       "      <td>15.483636</td>\n",
       "    </tr>\n",
       "    <tr>\n",
       "      <th>5</th>\n",
       "      <td>1985</td>\n",
       "      <td>0.711538</td>\n",
       "      <td>27.049451</td>\n",
       "      <td>9.313187</td>\n",
       "    </tr>\n",
       "    <tr>\n",
       "      <th>6</th>\n",
       "      <td>1986</td>\n",
       "      <td>0.669421</td>\n",
       "      <td>31.731405</td>\n",
       "      <td>14.409091</td>\n",
       "    </tr>\n",
       "    <tr>\n",
       "      <th>7</th>\n",
       "      <td>1987</td>\n",
       "      <td>0.481633</td>\n",
       "      <td>31.702041</td>\n",
       "      <td>13.469388</td>\n",
       "    </tr>\n",
       "    <tr>\n",
       "      <th>8</th>\n",
       "      <td>1988</td>\n",
       "      <td>0.331148</td>\n",
       "      <td>32.093333</td>\n",
       "      <td>12.581395</td>\n",
       "    </tr>\n",
       "    <tr>\n",
       "      <th>9</th>\n",
       "      <td>1989</td>\n",
       "      <td>0.451613</td>\n",
       "      <td>22.193548</td>\n",
       "      <td>4.548387</td>\n",
       "    </tr>\n",
       "    <tr>\n",
       "      <th>10</th>\n",
       "      <td>1990</td>\n",
       "      <td>1.258082</td>\n",
       "      <td>31.945205</td>\n",
       "      <td>14.361644</td>\n",
       "    </tr>\n",
       "    <tr>\n",
       "      <th>11</th>\n",
       "      <td>1991</td>\n",
       "      <td>1.002740</td>\n",
       "      <td>31.802740</td>\n",
       "      <td>14.501370</td>\n",
       "    </tr>\n",
       "    <tr>\n",
       "      <th>12</th>\n",
       "      <td>1992</td>\n",
       "      <td>1.101366</td>\n",
       "      <td>32.006925</td>\n",
       "      <td>15.658470</td>\n",
       "    </tr>\n",
       "    <tr>\n",
       "      <th>13</th>\n",
       "      <td>1993</td>\n",
       "      <td>0.928767</td>\n",
       "      <td>31.739011</td>\n",
       "      <td>16.023288</td>\n",
       "    </tr>\n",
       "    <tr>\n",
       "      <th>14</th>\n",
       "      <td>1994</td>\n",
       "      <td>0.822466</td>\n",
       "      <td>33.730114</td>\n",
       "      <td>15.225212</td>\n",
       "    </tr>\n",
       "    <tr>\n",
       "      <th>15</th>\n",
       "      <td>1995</td>\n",
       "      <td>0.687671</td>\n",
       "      <td>34.919178</td>\n",
       "      <td>15.286301</td>\n",
       "    </tr>\n",
       "    <tr>\n",
       "      <th>16</th>\n",
       "      <td>1996</td>\n",
       "      <td>1.023224</td>\n",
       "      <td>32.921703</td>\n",
       "      <td>15.273224</td>\n",
       "    </tr>\n",
       "    <tr>\n",
       "      <th>17</th>\n",
       "      <td>1997</td>\n",
       "      <td>1.039726</td>\n",
       "      <td>32.454795</td>\n",
       "      <td>16.194521</td>\n",
       "    </tr>\n",
       "    <tr>\n",
       "      <th>18</th>\n",
       "      <td>1998</td>\n",
       "      <td>0.436986</td>\n",
       "      <td>32.995890</td>\n",
       "      <td>15.464384</td>\n",
       "    </tr>\n",
       "    <tr>\n",
       "      <th>19</th>\n",
       "      <td>1999</td>\n",
       "      <td>0.616438</td>\n",
       "      <td>33.752055</td>\n",
       "      <td>14.330137</td>\n",
       "    </tr>\n",
       "    <tr>\n",
       "      <th>20</th>\n",
       "      <td>2000</td>\n",
       "      <td>0.792077</td>\n",
       "      <td>33.885246</td>\n",
       "      <td>14.430328</td>\n",
       "    </tr>\n",
       "    <tr>\n",
       "      <th>21</th>\n",
       "      <td>2001</td>\n",
       "      <td>1.360000</td>\n",
       "      <td>33.717808</td>\n",
       "      <td>15.372603</td>\n",
       "    </tr>\n",
       "    <tr>\n",
       "      <th>22</th>\n",
       "      <td>2002</td>\n",
       "      <td>0.482740</td>\n",
       "      <td>33.433884</td>\n",
       "      <td>14.285714</td>\n",
       "    </tr>\n",
       "    <tr>\n",
       "      <th>23</th>\n",
       "      <td>2003</td>\n",
       "      <td>0.768493</td>\n",
       "      <td>33.346575</td>\n",
       "      <td>14.639726</td>\n",
       "    </tr>\n",
       "    <tr>\n",
       "      <th>24</th>\n",
       "      <td>2004</td>\n",
       "      <td>1.604918</td>\n",
       "      <td>33.086066</td>\n",
       "      <td>15.435792</td>\n",
       "    </tr>\n",
       "    <tr>\n",
       "      <th>25</th>\n",
       "      <td>2005</td>\n",
       "      <td>0.662466</td>\n",
       "      <td>33.364384</td>\n",
       "      <td>15.797260</td>\n",
       "    </tr>\n",
       "    <tr>\n",
       "      <th>26</th>\n",
       "      <td>2006</td>\n",
       "      <td>0.890411</td>\n",
       "      <td>33.880822</td>\n",
       "      <td>15.406849</td>\n",
       "    </tr>\n",
       "    <tr>\n",
       "      <th>27</th>\n",
       "      <td>2007</td>\n",
       "      <td>1.046301</td>\n",
       "      <td>33.561644</td>\n",
       "      <td>14.983562</td>\n",
       "    </tr>\n",
       "    <tr>\n",
       "      <th>28</th>\n",
       "      <td>2008</td>\n",
       "      <td>0.771038</td>\n",
       "      <td>33.534153</td>\n",
       "      <td>15.530055</td>\n",
       "    </tr>\n",
       "    <tr>\n",
       "      <th>29</th>\n",
       "      <td>2009</td>\n",
       "      <td>1.510959</td>\n",
       "      <td>33.713151</td>\n",
       "      <td>15.936986</td>\n",
       "    </tr>\n",
       "    <tr>\n",
       "      <th>30</th>\n",
       "      <td>2010</td>\n",
       "      <td>0.691781</td>\n",
       "      <td>32.917808</td>\n",
       "      <td>14.920548</td>\n",
       "    </tr>\n",
       "    <tr>\n",
       "      <th>31</th>\n",
       "      <td>2011</td>\n",
       "      <td>0.613151</td>\n",
       "      <td>32.976712</td>\n",
       "      <td>14.316438</td>\n",
       "    </tr>\n",
       "  </tbody>\n",
       "</table>\n",
       "</div>"
      ],
      "text/plain": [
       "     AÑO  PRECIPPROM   TMAXPROM   TMINPROM\n",
       "0   1980    0.498634  31.431694  16.181694\n",
       "1   1981    1.308219  31.073973  16.008219\n",
       "2   1982    0.595890  31.394521  14.813699\n",
       "3   1983    0.770833  27.158333   8.800000\n",
       "4   1984    2.107273  30.625455  15.483636\n",
       "5   1985    0.711538  27.049451   9.313187\n",
       "6   1986    0.669421  31.731405  14.409091\n",
       "7   1987    0.481633  31.702041  13.469388\n",
       "8   1988    0.331148  32.093333  12.581395\n",
       "9   1989    0.451613  22.193548   4.548387\n",
       "10  1990    1.258082  31.945205  14.361644\n",
       "11  1991    1.002740  31.802740  14.501370\n",
       "12  1992    1.101366  32.006925  15.658470\n",
       "13  1993    0.928767  31.739011  16.023288\n",
       "14  1994    0.822466  33.730114  15.225212\n",
       "15  1995    0.687671  34.919178  15.286301\n",
       "16  1996    1.023224  32.921703  15.273224\n",
       "17  1997    1.039726  32.454795  16.194521\n",
       "18  1998    0.436986  32.995890  15.464384\n",
       "19  1999    0.616438  33.752055  14.330137\n",
       "20  2000    0.792077  33.885246  14.430328\n",
       "21  2001    1.360000  33.717808  15.372603\n",
       "22  2002    0.482740  33.433884  14.285714\n",
       "23  2003    0.768493  33.346575  14.639726\n",
       "24  2004    1.604918  33.086066  15.435792\n",
       "25  2005    0.662466  33.364384  15.797260\n",
       "26  2006    0.890411  33.880822  15.406849\n",
       "27  2007    1.046301  33.561644  14.983562\n",
       "28  2008    0.771038  33.534153  15.530055\n",
       "29  2009    1.510959  33.713151  15.936986\n",
       "30  2010    0.691781  32.917808  14.920548\n",
       "31  2011    0.613151  32.976712  14.316438"
      ]
     },
     "execution_count": 16,
     "metadata": {},
     "output_type": "execute_result"
    }
   ],
   "source": [
    "#Creando dataframe para promedios anuales\n",
    "datos_anual = {'AÑO': AÑOS, 'PRECIPPROM': PRECIPANUALPROM, 'TMAXPROM': TMAXANUALPROM, 'TMINPROM': TMINANUALPROM}\n",
    "df_anual = pd.DataFrame(data=datos_anual)\n",
    "df_anual"
   ]
  },
  {
   "cell_type": "code",
   "execution_count": 17,
   "metadata": {},
   "outputs": [
    {
     "data": {
      "image/png": "[encoded data removed]",
      "text/plain": [
       "<Figure size 432x288 with 1 Axes>"
      ]
     },
     "metadata": {
      "needs_background": "light"
     },
     "output_type": "display_data"
    }
   ],
   "source": [
    "#Realizamos una gráfica de barras de la precipitación mensual acumulada promedio  \n",
    "MESESc = calendar.month_name[1:13] \n",
    "fecha = MESES\n",
    "PRECIPMENSUAL = PRECIPMESPROM\n",
    "\n",
    "#Calculando anchura óptima\n",
    "width = np.min(np.diff(fecha))/3\n",
    "\n",
    "#Graficando\n",
    "plt.bar(fecha-width, PRECIPMENSUAL,width,align='center', alpha=0.7)\n",
    "plt.xticks(fecha-width, MESESc, size = 'small', color = 'k', rotation = 90)\n",
    "plt.ylabel('Precipitación (mm)')\n",
    "plt.title('Precipitación mensual acumulada promedio (1980-2011)')\n",
    "plt.gca().legend(('PMENSUAL'),frameon=False,loc='upper left')\n",
    "plt.savefig('precipromensual',plt=2000)\n",
    "plt.show()"
   ]
  },
  {
   "cell_type": "code",
   "execution_count": 18,
   "metadata": {},
   "outputs": [
    {
     "data": {
      "image/png": "[encoded data removed]",
      "text/plain": [
       "<Figure size 432x288 with 1 Axes>"
      ]
     },
     "metadata": {
      "needs_background": "light"
     },
     "output_type": "display_data"
    }
   ],
   "source": [
    "#Realizamos una gráfica que demuestre la temperatura máxima y mínima promedio a través del tiempo\n",
    "X = AÑOS\n",
    "N = np.arange(len(X)) #Longitud del arreglo de datos\n",
    "Y1 = TMAXANUALPROM\n",
    "Y2 = TMINANUALPROM\n",
    "\n",
    "plt.plot(Y1, label=\"Temperatura mínima\", color = 'b')\n",
    "plt.xlabel(\"Años\")\n",
    "plt.ylabel(\"Temperatura (C)\")\n",
    "\n",
    "\n",
    "plt.xticks(N, X, size = 'small',color = 'k',rotation = 90)\n",
    "\n",
    "\n",
    "plt.plot(Y2, label=\"Temperatura máxima\", color = 'y')\n",
    "plt.legend()\n",
    "plt.title('Evolución anual de la temperatura promedio (1980 - 2011)')\n",
    "plt.savefig('tempanual',plt=2000)\n",
    "plt.show()"
   ]
  },
  {
   "cell_type": "code",
   "execution_count": 19,
   "metadata": {},
   "outputs": [
    {
     "data": {
      "image/png": "[encoded data removed]",
      "text/plain": [
       "<Figure size 432x288 with 1 Axes>"
      ]
     },
     "metadata": {
      "needs_background": "light"
     },
     "output_type": "display_data"
    }
   ],
   "source": [
    "\n",
    "#Realizamos una gráfica de barras de la precipitación anual acumulada promedio  \n",
    "fecha = AÑOS\n",
    "PRECIPANUAL = PRECIPANUALPROM\n",
    "\n",
    "#Calculando anchura óptima\n",
    "width = np.min(np.diff(fecha))/3\n",
    "\n",
    "#Graficando\n",
    "plt.bar(fecha-width, PRECIPANUAL,width,align='center', alpha=0.7)\n",
    "plt.xticks(fecha-width, AÑOS, size = 'small', color = 'k', rotation = 90)\n",
    "plt.ylabel('Precipitación (mm)')\n",
    "plt.title('Precipitación anual acumulada promedio (1980-2011)')\n",
    "plt.gca().legend(('PMANUAL'),frameon=False,loc='upper left')\n",
    "plt.savefig('precipromanual',plt=2000)\n",
    "plt.show()"
   ]
  },
  {
   "cell_type": "code",
   "execution_count": 20,
   "metadata": {},
   "outputs": [
    {
     "data": {
      "image/png": "[encoded data removed]",
      "text/plain": [
       "<Figure size 432x288 with 1 Axes>"
      ]
     },
     "metadata": {
      "needs_background": "light"
     },
     "output_type": "display_data"
    }
   ],
   "source": [
    "#Realizamos el diagrama de cajas para las temperaturas máximas de cada mes con seaborn\n",
    "ax = sns.boxplot(x=\"MES\", y=\"TMAX\", data=df)\n",
    "ax.set(xlabel='Meses', ylabel='Temperaturas máximas (C)')\n",
    "sns.despine() #Remueve la \"espina dorsal\" de los ejes\n",
    "plt.savefig('cajatmaxmensualsns',plt=2000) #Guardamos la figura\n",
    "plt.show()"
   ]
  },
  {
   "cell_type": "code",
   "execution_count": 21,
   "metadata": {},
   "outputs": [
    {
     "data": {
      "image/png": "[encoded data removed]",
      "text/plain": [
       "<Figure size 432x288 with 1 Axes>"
      ]
     },
     "metadata": {
      "needs_background": "light"
     },
     "output_type": "display_data"
    }
   ],
   "source": [
    "#Realizamos el diagrama de cajas para las temperaturas mínimas de cada mes con seaborn\n",
    "ax = sns.boxplot(x=\"MES\", y=\"TMIN\", data=df)\n",
    "ax.set(xlabel='Meses', ylabel='Temperaturas mínimas (C)')\n",
    "sns.despine() #Remueve la \"espina dorsal\" de los ejes\n",
    "plt.savefig('cajatminmensualsns',plt=2000) #Guardamos la figura\n",
    "plt.show()"
   ]
  },
  {
   "cell_type": "code",
   "execution_count": 22,
   "metadata": {},
   "outputs": [
    {
     "data": {
      "image/png": "[encoded data removed]",
      "text/plain": [
       "<Figure size 432x288 with 1 Axes>"
      ]
     },
     "metadata": {
      "needs_background": "light"
     },
     "output_type": "display_data"
    }
   ],
   "source": [
    "#Realizamos el diagrama de cajas para las temperaturas máximas de cada año\n",
    "ax = sns.boxplot(x=\"AÑO\", y=\"TMAX\", data=df)\n",
    "ax.set(xlabel='Años', ylabel='Temperaturas máximas (C)')\n",
    "ax.set_xticklabels(ax.get_xticklabels(),rotation=90) #Rotamos los datos 90 grados para mejor visualización\n",
    "ax.tick_params(labelsize=8)  #Tamaño de fuente de datos en los ejes\n",
    "sns.despine() #Remueve la \"espina dorsal\" de los ejes\n",
    "plt.savefig('cajatmaxanual',plt=2000) #Guardamos la figura\n",
    "plt.show()"
   ]
  },
  {
   "cell_type": "code",
   "execution_count": 23,
   "metadata": {},
   "outputs": [
    {
     "data": {
      "image/png": "[encoded data removed]",
      "text/plain": [
       "<Figure size 432x288 with 1 Axes>"
      ]
     },
     "metadata": {
      "needs_background": "light"
     },
     "output_type": "display_data"
    }
   ],
   "source": [
    "#Realizamos el diagrama de cajas para las temperaturas mínimas de cada año con seaborn\n",
    "ax = sns.boxplot(x=\"AÑO\", y=\"TMIN\", data=df)\n",
    "ax.set(xlabel='Años', ylabel='Temperaturas mínimas (C)')\n",
    "ax.set_xticklabels(ax.get_xticklabels(),rotation=90) #Rotamos los datos 90 grados para mejor visualización\n",
    "ax.tick_params(labelsize=8)  #Tamaño de fuente de datos en los ejes\n",
    "sns.despine() #Remueve la \"espina dorsal\" de los ejes\n",
    "plt.savefig('cajatminanualsns',plt=2000) #Guardamos la figura\n",
    "plt.show()"
   ]
  },
  {
   "cell_type": "code",
   "execution_count": 24,
   "metadata": {},
   "outputs": [],
   "source": [
    "data_to_plotene = [df[df.MES==1].TMAX,df[df.MES==1].TMIN]"
   ]
  },
  {
   "cell_type": "code",
   "execution_count": 27,
   "metadata": {},
   "outputs": [
    {
     "data": {
      "image/png": "[encoded data removed]",
      "text/plain": [
       "<Figure size 648x432 with 1 Axes>"
      ]
     },
     "metadata": {
      "needs_background": "light"
     },
     "output_type": "display_data"
    }
   ],
   "source": [
    "\n",
    "# Create a figure instance\n",
    "fig = plt.figure(1, figsize=(9, 6))\n",
    "\n",
    "# Create an axes instance\n",
    "ax = fig.add_subplot(111)\n",
    "\n",
    "# Set labels\n",
    "labels = ['TMAX','TMIN']\n",
    "\n",
    "# Create the boxplot\n",
    "bp = ax.boxplot(data_to_plotene,\n",
    "                vert=True,  # vertical box alignment\n",
    "                patch_artist=True,  # fill with color\n",
    "                labels=labels)\n",
    "\n",
    "#Set axis labels\n",
    "ax.set_title('Temperatura máxima mensual')\n",
    "ax.set_xlabel('Meses')\n",
    "ax.set_ylabel('Temperatura máxima (C)')\n",
    "        \n",
    "# Save the figure\n",
    "fig.savefig('cajastmaxmeses.png', bbox_inches='tight')\n",
    "\n",
    "plt.show()"
   ]
  },
  {
   "cell_type": "code",
   "execution_count": 28,
   "metadata": {},
   "outputs": [],
   "source": [
    "data_to_plot = [df[df.MES==1].TMAX, df[df.MES==2].TMAX, df[df.MES==3].TMAX, df[df.MES==4].TMAX, df[df.MES==5].TMAX,df[df.MES==6].TMAX, df[df.MES==7].TMAX, df[df.MES==8].TMAX, df[df.MES==9].TMAX, df[df.MES==10].TMAX,df[df.MES==11].TMAX, df[df.MES==12].TMAX]"
   ]
  },
  {
   "cell_type": "code",
   "execution_count": 31,
   "metadata": {},
   "outputs": [
    {
     "data": {
      "image/png": "[encoded data removed]",
      "text/plain": [
       "<Figure size 648x432 with 1 Axes>"
      ]
     },
     "metadata": {
      "needs_background": "light"
     },
     "output_type": "display_data"
    }
   ],
   "source": [
    "# Create a figure instance\n",
    "fig = plt.figure(1, figsize=(9, 6))\n",
    "\n",
    "# Create an axes instance\n",
    "ax = fig.add_subplot(111)\n",
    "\n",
    "# Set labels\n",
    "labels = ['ENE','FEB','MAR','ABR','MAY','JUN','JUL','AGO','SEP','OCT','NOV','DIC']\n",
    "\n",
    "# Create the boxplot\n",
    "bp = ax.boxplot(data_to_plot,\n",
    "                vert=True,  # vertical box alignment\n",
    "                patch_artist=True,  # fill with color\n",
    "                labels=labels)\n",
    "\n",
    "#Set axis labels\n",
    "ax.set_title('Temperatura máxima mensual')\n",
    "ax.set_xlabel('Meses')\n",
    "ax.set_ylabel('Temperatura máxima (C)')\n",
    "        \n",
    "# Save the figure\n",
    "fig.savefig('cajastmaxmeses.png', bbox_inches='tight')\n",
    "\n",
    "plt.show()"
   ]
  },
  {
   "cell_type": "code",
   "execution_count": null,
   "metadata": {},
   "outputs": [],
   "source": []
  }
 ],
 "metadata": {
  "kernelspec": {
   "display_name": "Python 3",
   "language": "python",
   "name": "python3"
  },
  "language_info": {
   "codemirror_mode": {
    "name": "ipython",
    "version": 3
   },
   "file_extension": ".py",
   "mimetype": "text/x-python",
   "name": "python",
   "nbconvert_exporter": "python",
   "pygments_lexer": "ipython3",
   "version": "3.7.1"
  }
 },
 "nbformat": 4,
 "nbformat_minor": 2
}
