{
 "cells": [
  {
   "cell_type": "code",
   "execution_count": 1,
   "metadata": {},
   "outputs": [],
   "source": [
    "# Cargar a la memoria de trabajo las bibliotecas: Pandas (manejo de datos, \n",
    "# Numpy (numerical python) y la biblioteca de gráficas Matplotlib\n",
    "# Se asignan nombres cortos.\n",
    "import pandas as pd\n",
    "import numpy as np\n",
    "import matplotlib.pyplot as plt\n",
    "#\n",
    "# Usar \"Shift+Enter\" para procesar la información de la celda\n",
    "#"
   ]
  },
  {
   "cell_type": "code",
   "execution_count": 2,
   "metadata": {},
   "outputs": [],
   "source": [
    "df0 = pd.read_csv('datos.txt', skiprows=3, sep='\\s+')"
   ]
  },
  {
   "cell_type": "code",
   "execution_count": 3,
   "metadata": {},
   "outputs": [
    {
     "data": {
      "text/html": [
       "<div>\n",
       "<style scoped>\n",
       "    .dataframe tbody tr th:only-of-type {\n",
       "        vertical-align: middle;\n",
       "    }\n",
       "\n",
       "    .dataframe tbody tr th {\n",
       "        vertical-align: top;\n",
       "    }\n",
       "\n",
       "    .dataframe thead th {\n",
       "        text-align: right;\n",
       "    }\n",
       "</style>\n",
       "<table border=\"1\" class=\"dataframe\">\n",
       "  <thead>\n",
       "    <tr style=\"text-align: right;\">\n",
       "      <th></th>\n",
       "      <th>DD/MM/AAAA</th>\n",
       "      <th>DIRS</th>\n",
       "      <th>DIRR</th>\n",
       "      <th>VELS</th>\n",
       "      <th>VELR</th>\n",
       "      <th>TEMP</th>\n",
       "      <th>HR</th>\n",
       "      <th>PB</th>\n",
       "      <th>PREC</th>\n",
       "      <th>RAD-SOL</th>\n",
       "    </tr>\n",
       "  </thead>\n",
       "  <tbody>\n",
       "    <tr>\n",
       "      <th>0</th>\n",
       "      <td>11/11/2018</td>\n",
       "      <td>266.0</td>\n",
       "      <td>276.0</td>\n",
       "      <td>6.42</td>\n",
       "      <td>32.9</td>\n",
       "      <td>13.5</td>\n",
       "      <td>42.0</td>\n",
       "      <td>873.5</td>\n",
       "      <td>0.0</td>\n",
       "      <td>205.2</td>\n",
       "    </tr>\n",
       "    <tr>\n",
       "      <th>1</th>\n",
       "      <td>12/11/2018</td>\n",
       "      <td>347.0</td>\n",
       "      <td>345.0</td>\n",
       "      <td>4.68</td>\n",
       "      <td>33.4</td>\n",
       "      <td>9.9</td>\n",
       "      <td>36.0</td>\n",
       "      <td>876.7</td>\n",
       "      <td>0.0</td>\n",
       "      <td>215.1</td>\n",
       "    </tr>\n",
       "    <tr>\n",
       "      <th>2</th>\n",
       "      <td>13/11/2018</td>\n",
       "      <td>89.0</td>\n",
       "      <td>111.0</td>\n",
       "      <td>19.46</td>\n",
       "      <td>63.8</td>\n",
       "      <td>7.6</td>\n",
       "      <td>30.0</td>\n",
       "      <td>881.6</td>\n",
       "      <td>0.0</td>\n",
       "      <td>215.3</td>\n",
       "    </tr>\n",
       "    <tr>\n",
       "      <th>3</th>\n",
       "      <td>14/11/2018</td>\n",
       "      <td>99.0</td>\n",
       "      <td>124.0</td>\n",
       "      <td>16.86</td>\n",
       "      <td>53.4</td>\n",
       "      <td>9.7</td>\n",
       "      <td>22.0</td>\n",
       "      <td>881.1</td>\n",
       "      <td>0.0</td>\n",
       "      <td>149.0</td>\n",
       "    </tr>\n",
       "    <tr>\n",
       "      <th>4</th>\n",
       "      <td>15/11/2018</td>\n",
       "      <td>112.0</td>\n",
       "      <td>134.0</td>\n",
       "      <td>5.57</td>\n",
       "      <td>26.4</td>\n",
       "      <td>11.4</td>\n",
       "      <td>27.0</td>\n",
       "      <td>876.5</td>\n",
       "      <td>0.0</td>\n",
       "      <td>207.6</td>\n",
       "    </tr>\n",
       "  </tbody>\n",
       "</table>\n",
       "</div>"
      ],
      "text/plain": [
       "   DD/MM/AAAA   DIRS   DIRR   VELS  VELR  TEMP    HR     PB  PREC  RAD-SOL\n",
       "0  11/11/2018  266.0  276.0   6.42  32.9  13.5  42.0  873.5   0.0    205.2\n",
       "1  12/11/2018  347.0  345.0   4.68  33.4   9.9  36.0  876.7   0.0    215.1\n",
       "2  13/11/2018   89.0  111.0  19.46  63.8   7.6  30.0  881.6   0.0    215.3\n",
       "3  14/11/2018   99.0  124.0  16.86  53.4   9.7  22.0  881.1   0.0    149.0\n",
       "4  15/11/2018  112.0  134.0   5.57  26.4  11.4  27.0  876.5   0.0    207.6"
      ]
     },
     "execution_count": 3,
     "metadata": {},
     "output_type": "execute_result"
    }
   ],
   "source": [
    "df0.head()"
   ]
  },
  {
   "cell_type": "code",
   "execution_count": 4,
   "metadata": {},
   "outputs": [],
   "source": [
    "# Dar estructura de datos (DataFrame)\n",
    "df = pd.DataFrame(df0)"
   ]
  },
  {
   "cell_type": "code",
   "execution_count": 5,
   "metadata": {},
   "outputs": [
    {
     "data": {
      "text/plain": [
       "DD/MM/AAAA     object\n",
       "DIRS          float64\n",
       "DIRR          float64\n",
       "VELS          float64\n",
       "VELR          float64\n",
       "TEMP          float64\n",
       "HR            float64\n",
       "PB            float64\n",
       "PREC          float64\n",
       "RAD-SOL       float64\n",
       "dtype: object"
      ]
     },
     "execution_count": 5,
     "metadata": {},
     "output_type": "execute_result"
    }
   ],
   "source": [
    "# Ver los tipos de datos que Pandas ha reconocido al leer\n",
    "df.dtypes"
   ]
  },
  {
   "cell_type": "code",
   "execution_count": 6,
   "metadata": {},
   "outputs": [],
   "source": [
    "# Combinar las columnas \"DD/MM/AAAA\" con \"HH:MM\" y convertirla a variable de tiempo\n",
    "# Se crea una nueva columna \"Fecha\" al final con formato de tiempo.\n",
    "# Eliminamos las dos primeras columnas que ya no necesitaremos\n",
    "df['FECHA'] = pd.to_datetime(df.apply(lambda x: x['DD/MM/AAAA'], 1), dayfirst=True)\n",
    "df = df.drop(['DD/MM/AAAA'],1)"
   ]
  },
  {
   "cell_type": "code",
   "execution_count": 7,
   "metadata": {},
   "outputs": [
    {
     "data": {
      "text/html": [
       "<div>\n",
       "<style scoped>\n",
       "    .dataframe tbody tr th:only-of-type {\n",
       "        vertical-align: middle;\n",
       "    }\n",
       "\n",
       "    .dataframe tbody tr th {\n",
       "        vertical-align: top;\n",
       "    }\n",
       "\n",
       "    .dataframe thead th {\n",
       "        text-align: right;\n",
       "    }\n",
       "</style>\n",
       "<table border=\"1\" class=\"dataframe\">\n",
       "  <thead>\n",
       "    <tr style=\"text-align: right;\">\n",
       "      <th></th>\n",
       "      <th>DIRS</th>\n",
       "      <th>DIRR</th>\n",
       "      <th>VELS</th>\n",
       "      <th>VELR</th>\n",
       "      <th>TEMP</th>\n",
       "      <th>HR</th>\n",
       "      <th>PB</th>\n",
       "      <th>PREC</th>\n",
       "      <th>RAD-SOL</th>\n",
       "      <th>FECHA</th>\n",
       "    </tr>\n",
       "  </thead>\n",
       "  <tbody>\n",
       "    <tr>\n",
       "      <th>0</th>\n",
       "      <td>266.0</td>\n",
       "      <td>276.0</td>\n",
       "      <td>6.42</td>\n",
       "      <td>32.9</td>\n",
       "      <td>13.5</td>\n",
       "      <td>42.0</td>\n",
       "      <td>873.5</td>\n",
       "      <td>0.0</td>\n",
       "      <td>205.2</td>\n",
       "      <td>2018-11-11</td>\n",
       "    </tr>\n",
       "    <tr>\n",
       "      <th>1</th>\n",
       "      <td>347.0</td>\n",
       "      <td>345.0</td>\n",
       "      <td>4.68</td>\n",
       "      <td>33.4</td>\n",
       "      <td>9.9</td>\n",
       "      <td>36.0</td>\n",
       "      <td>876.7</td>\n",
       "      <td>0.0</td>\n",
       "      <td>215.1</td>\n",
       "      <td>2018-11-12</td>\n",
       "    </tr>\n",
       "    <tr>\n",
       "      <th>2</th>\n",
       "      <td>89.0</td>\n",
       "      <td>111.0</td>\n",
       "      <td>19.46</td>\n",
       "      <td>63.8</td>\n",
       "      <td>7.6</td>\n",
       "      <td>30.0</td>\n",
       "      <td>881.6</td>\n",
       "      <td>0.0</td>\n",
       "      <td>215.3</td>\n",
       "      <td>2018-11-13</td>\n",
       "    </tr>\n",
       "    <tr>\n",
       "      <th>3</th>\n",
       "      <td>99.0</td>\n",
       "      <td>124.0</td>\n",
       "      <td>16.86</td>\n",
       "      <td>53.4</td>\n",
       "      <td>9.7</td>\n",
       "      <td>22.0</td>\n",
       "      <td>881.1</td>\n",
       "      <td>0.0</td>\n",
       "      <td>149.0</td>\n",
       "      <td>2018-11-14</td>\n",
       "    </tr>\n",
       "    <tr>\n",
       "      <th>4</th>\n",
       "      <td>112.0</td>\n",
       "      <td>134.0</td>\n",
       "      <td>5.57</td>\n",
       "      <td>26.4</td>\n",
       "      <td>11.4</td>\n",
       "      <td>27.0</td>\n",
       "      <td>876.5</td>\n",
       "      <td>0.0</td>\n",
       "      <td>207.6</td>\n",
       "      <td>2018-11-15</td>\n",
       "    </tr>\n",
       "  </tbody>\n",
       "</table>\n",
       "</div>"
      ],
      "text/plain": [
       "    DIRS   DIRR   VELS  VELR  TEMP    HR     PB  PREC  RAD-SOL      FECHA\n",
       "0  266.0  276.0   6.42  32.9  13.5  42.0  873.5   0.0    205.2 2018-11-11\n",
       "1  347.0  345.0   4.68  33.4   9.9  36.0  876.7   0.0    215.1 2018-11-12\n",
       "2   89.0  111.0  19.46  63.8   7.6  30.0  881.6   0.0    215.3 2018-11-13\n",
       "3   99.0  124.0  16.86  53.4   9.7  22.0  881.1   0.0    149.0 2018-11-14\n",
       "4  112.0  134.0   5.57  26.4  11.4  27.0  876.5   0.0    207.6 2018-11-15"
      ]
     },
     "execution_count": 7,
     "metadata": {},
     "output_type": "execute_result"
    }
   ],
   "source": [
    "df.head()"
   ]
  },
  {
   "cell_type": "code",
   "execution_count": 8,
   "metadata": {},
   "outputs": [
    {
     "data": {
      "text/html": [
       "<div>\n",
       "<style scoped>\n",
       "    .dataframe tbody tr th:only-of-type {\n",
       "        vertical-align: middle;\n",
       "    }\n",
       "\n",
       "    .dataframe tbody tr th {\n",
       "        vertical-align: top;\n",
       "    }\n",
       "\n",
       "    .dataframe thead th {\n",
       "        text-align: right;\n",
       "    }\n",
       "</style>\n",
       "<table border=\"1\" class=\"dataframe\">\n",
       "  <thead>\n",
       "    <tr style=\"text-align: right;\">\n",
       "      <th></th>\n",
       "      <th>DIRS</th>\n",
       "      <th>DIRR</th>\n",
       "      <th>VELS</th>\n",
       "      <th>VELR</th>\n",
       "      <th>TEMP</th>\n",
       "      <th>HR</th>\n",
       "      <th>PB</th>\n",
       "      <th>PREC</th>\n",
       "      <th>RAD-SOL</th>\n",
       "    </tr>\n",
       "  </thead>\n",
       "  <tbody>\n",
       "    <tr>\n",
       "      <th>count</th>\n",
       "      <td>83.000000</td>\n",
       "      <td>82.000000</td>\n",
       "      <td>82.000000</td>\n",
       "      <td>78.000000</td>\n",
       "      <td>78.000000</td>\n",
       "      <td>78.000000</td>\n",
       "      <td>78.000000</td>\n",
       "      <td>78.000000</td>\n",
       "      <td>78.000000</td>\n",
       "    </tr>\n",
       "    <tr>\n",
       "      <th>mean</th>\n",
       "      <td>219.865060</td>\n",
       "      <td>219.304878</td>\n",
       "      <td>8.369512</td>\n",
       "      <td>33.007692</td>\n",
       "      <td>10.715385</td>\n",
       "      <td>50.692308</td>\n",
       "      <td>874.980769</td>\n",
       "      <td>0.710256</td>\n",
       "      <td>158.160256</td>\n",
       "    </tr>\n",
       "    <tr>\n",
       "      <th>std</th>\n",
       "      <td>175.838823</td>\n",
       "      <td>96.458229</td>\n",
       "      <td>17.782548</td>\n",
       "      <td>10.633563</td>\n",
       "      <td>3.284401</td>\n",
       "      <td>16.275476</td>\n",
       "      <td>3.155579</td>\n",
       "      <td>2.192703</td>\n",
       "      <td>41.154752</td>\n",
       "    </tr>\n",
       "    <tr>\n",
       "      <th>min</th>\n",
       "      <td>0.000000</td>\n",
       "      <td>0.000000</td>\n",
       "      <td>0.220000</td>\n",
       "      <td>15.100000</td>\n",
       "      <td>0.900000</td>\n",
       "      <td>22.000000</td>\n",
       "      <td>867.200000</td>\n",
       "      <td>0.000000</td>\n",
       "      <td>35.300000</td>\n",
       "    </tr>\n",
       "    <tr>\n",
       "      <th>25%</th>\n",
       "      <td>120.500000</td>\n",
       "      <td>149.500000</td>\n",
       "      <td>2.350000</td>\n",
       "      <td>26.400000</td>\n",
       "      <td>9.225000</td>\n",
       "      <td>36.250000</td>\n",
       "      <td>873.175000</td>\n",
       "      <td>0.000000</td>\n",
       "      <td>131.400000</td>\n",
       "    </tr>\n",
       "    <tr>\n",
       "      <th>50%</th>\n",
       "      <td>220.000000</td>\n",
       "      <td>244.000000</td>\n",
       "      <td>4.385000</td>\n",
       "      <td>30.500000</td>\n",
       "      <td>11.400000</td>\n",
       "      <td>49.500000</td>\n",
       "      <td>875.500000</td>\n",
       "      <td>0.000000</td>\n",
       "      <td>171.700000</td>\n",
       "    </tr>\n",
       "    <tr>\n",
       "      <th>75%</th>\n",
       "      <td>254.000000</td>\n",
       "      <td>275.750000</td>\n",
       "      <td>7.337500</td>\n",
       "      <td>35.975000</td>\n",
       "      <td>13.275000</td>\n",
       "      <td>65.750000</td>\n",
       "      <td>877.350000</td>\n",
       "      <td>0.000000</td>\n",
       "      <td>188.025000</td>\n",
       "    </tr>\n",
       "    <tr>\n",
       "      <th>max</th>\n",
       "      <td>873.800000</td>\n",
       "      <td>360.000000</td>\n",
       "      <td>114.000000</td>\n",
       "      <td>63.800000</td>\n",
       "      <td>15.700000</td>\n",
       "      <td>83.000000</td>\n",
       "      <td>881.600000</td>\n",
       "      <td>11.800000</td>\n",
       "      <td>215.300000</td>\n",
       "    </tr>\n",
       "  </tbody>\n",
       "</table>\n",
       "</div>"
      ],
      "text/plain": [
       "             DIRS        DIRR        VELS       VELR       TEMP         HR  \\\n",
       "count   83.000000   82.000000   82.000000  78.000000  78.000000  78.000000   \n",
       "mean   219.865060  219.304878    8.369512  33.007692  10.715385  50.692308   \n",
       "std    175.838823   96.458229   17.782548  10.633563   3.284401  16.275476   \n",
       "min      0.000000    0.000000    0.220000  15.100000   0.900000  22.000000   \n",
       "25%    120.500000  149.500000    2.350000  26.400000   9.225000  36.250000   \n",
       "50%    220.000000  244.000000    4.385000  30.500000  11.400000  49.500000   \n",
       "75%    254.000000  275.750000    7.337500  35.975000  13.275000  65.750000   \n",
       "max    873.800000  360.000000  114.000000  63.800000  15.700000  83.000000   \n",
       "\n",
       "               PB       PREC     RAD-SOL  \n",
       "count   78.000000  78.000000   78.000000  \n",
       "mean   874.980769   0.710256  158.160256  \n",
       "std      3.155579   2.192703   41.154752  \n",
       "min    867.200000   0.000000   35.300000  \n",
       "25%    873.175000   0.000000  131.400000  \n",
       "50%    875.500000   0.000000  171.700000  \n",
       "75%    877.350000   0.000000  188.025000  \n",
       "max    881.600000  11.800000  215.300000  "
      ]
     },
     "execution_count": 8,
     "metadata": {},
     "output_type": "execute_result"
    }
   ],
   "source": [
    "# Realiza un análisis exploratorio de datos\n",
    "df.describe()"
   ]
  },
  {
   "cell_type": "code",
   "execution_count": 9,
   "metadata": {},
   "outputs": [
    {
     "data": {
      "text/html": [
       "<div>\n",
       "<style scoped>\n",
       "    .dataframe tbody tr th:only-of-type {\n",
       "        vertical-align: middle;\n",
       "    }\n",
       "\n",
       "    .dataframe tbody tr th {\n",
       "        vertical-align: top;\n",
       "    }\n",
       "\n",
       "    .dataframe thead th {\n",
       "        text-align: right;\n",
       "    }\n",
       "</style>\n",
       "<table border=\"1\" class=\"dataframe\">\n",
       "  <thead>\n",
       "    <tr style=\"text-align: right;\">\n",
       "      <th></th>\n",
       "      <th>DIRS</th>\n",
       "      <th>DIRR</th>\n",
       "      <th>VELS</th>\n",
       "      <th>VELR</th>\n",
       "      <th>TEMP</th>\n",
       "      <th>HR</th>\n",
       "      <th>PB</th>\n",
       "      <th>PREC</th>\n",
       "      <th>RAD-SOL</th>\n",
       "      <th>FECHA</th>\n",
       "    </tr>\n",
       "  </thead>\n",
       "  <tbody>\n",
       "  </tbody>\n",
       "</table>\n",
       "</div>"
      ],
      "text/plain": [
       "Empty DataFrame\n",
       "Columns: [DIRS, DIRR, VELS, VELR, TEMP, HR, PB, PREC, RAD-SOL, FECHA]\n",
       "Index: []"
      ]
     },
     "execution_count": 9,
     "metadata": {},
     "output_type": "execute_result"
    }
   ],
   "source": [
    "# Selecciona los renglones con Temperatura > 24ºC y < 25ºC\n",
    "df_tmp = df[df.TEMP > 24] \n",
    "df_select = df_tmp[df_tmp.TEMP < 25]\n",
    "df_select"
   ]
  },
  {
   "cell_type": "code",
   "execution_count": 10,
   "metadata": {},
   "outputs": [
    {
     "data": {
      "text/plain": [
       "DIRS       219.865060\n",
       "DIRR       219.304878\n",
       "VELS         8.369512\n",
       "VELR        33.007692\n",
       "TEMP        10.715385\n",
       "HR          50.692308\n",
       "PB         874.980769\n",
       "PREC         0.710256\n",
       "RAD-SOL    158.160256\n",
       "dtype: float64"
      ]
     },
     "execution_count": 10,
     "metadata": {},
     "output_type": "execute_result"
    }
   ],
   "source": [
    "# Calcula el promedio de las columnas, excepto en la FECHA (que no tendría sentido)\n",
    "df.mean()"
   ]
  },
  {
   "cell_type": "code",
   "execution_count": 11,
   "metadata": {},
   "outputs": [
    {
     "data": {
      "text/plain": [
       "10.715384615384611"
      ]
     },
     "execution_count": 11,
     "metadata": {},
     "output_type": "execute_result"
    }
   ],
   "source": [
    "# Calcula el promedio de las Temperaturas\n",
    "df.TEMP.mean()"
   ]
  },
  {
   "cell_type": "code",
   "execution_count": 13,
   "metadata": {},
   "outputs": [
    {
     "data": {
      "image/png": "[encoded data removed]",
      "text/plain": [
       "<Figure size 432x288 with 1 Axes>"
      ]
     },
     "metadata": {
      "needs_background": "light"
     },
     "output_type": "display_data"
    }
   ],
   "source": [
    "# Gráfica de la rapidez de los vientos (m/s) \n",
    "plt.figure(); df.VELR.plot(); plt.legend(loc='best')\n",
    "plt.title(\"Variación de la Rapidez de los Vientos\")\n",
    "plt.ylabel(\"Rapidez (m/s)\")\n",
    "plt.grid(True)\n",
    "plt.show()"
   ]
  },
  {
   "cell_type": "code",
   "execution_count": 14,
   "metadata": {},
   "outputs": [
    {
     "data": {
      "text/plain": [
       "<Figure size 432x288 with 0 Axes>"
      ]
     },
     "metadata": {},
     "output_type": "display_data"
    },
    {
     "data": {
      "image/png": "[encoded data removed]",
      "text/plain": [
       "<Figure size 432x288 with 1 Axes>"
      ]
     },
     "metadata": {
      "needs_background": "light"
     },
     "output_type": "display_data"
    }
   ],
   "source": [
    "# Gráfica de Temperatura y Humedad Relativa\n",
    "df1 = df[['TEMP','HR']]\n",
    "plt.figure(); df1.plot(); plt.legend(loc='best')\n",
    "plt.title(\"Variación de la Temperatura y la Humedad Relativa\")\n",
    "plt.ylabel(\"Temp ºC /(%) HR\")\n",
    "plt.grid(True)\n",
    "plt.show()"
   ]
  },
  {
   "cell_type": "code",
   "execution_count": 15,
   "metadata": {},
   "outputs": [
    {
     "data": {
      "image/png": "[encoded data removed]",
      "text/plain": [
       "<Figure size 432x288 with 1 Axes>"
      ]
     },
     "metadata": {
      "needs_background": "light"
     },
     "output_type": "display_data"
    }
   ],
   "source": [
    "plt.plot_date(x=df.FECHA, y=df.TEMP, fmt=\"b-\")\n",
    "plt.title(\"Variación de la Temperatura\")\n",
    "plt.ylabel(\"Temp ºC\")\n",
    "plt.grid(True)\n",
    "plt.show()"
   ]
  },
  {
   "cell_type": "code",
   "execution_count": null,
   "metadata": {},
   "outputs": [],
   "source": []
  }
 ],
 "metadata": {
  "kernelspec": {
   "display_name": "Python 3",
   "language": "python",
   "name": "python3"
  },
  "language_info": {
   "codemirror_mode": {
    "name": "ipython",
    "version": 3
   },
   "file_extension": ".py",
   "mimetype": "text/x-python",
   "name": "python",
   "nbconvert_exporter": "python",
   "pygments_lexer": "ipython3",
   "version": "3.7.1"
  }
 },
 "nbformat": 4,
 "nbformat_minor": 2
}
