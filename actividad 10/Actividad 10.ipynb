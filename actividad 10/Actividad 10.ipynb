{
 "cells": [
  {
   "cell_type": "code",
   "execution_count": 1,
   "metadata": {},
   "outputs": [],
   "source": [
    "#Importamos las bibliotecas a utilizar \n",
    "import numpy as np\n",
    "import matplotlib.pyplot as plt\n",
    "from math import cos\n",
    "from scipy.integrate import ode"
   ]
  },
  {
   "cell_type": "code",
   "execution_count": 2,
   "metadata": {},
   "outputs": [],
   "source": [
    "#Definimos nuestra ecuación a integrar\n",
    "\n",
    "\n",
    "#def f(t, z, p):\n",
    "  \n",
    "    #----------------------------------------------\n",
    "    # Lado derecho de las ecuaciones diferenciales\n",
    "    #  dx/dt = y\n",
    "    #  dy/dt = - δ*y - α*dx - β*x**3 + γ*cos(ω*t)\n",
    "    #----------------------------------------------\n",
    "    \n",
    " #   δ, α, β, γ, ω = p                           #Parámetros de nuestra integral\n",
    " #   x, y = z                                    #Parámetros de integración\n",
    " #   f = [y, - δ*y - α*x - β*x**3 + γ*cos(ω*t)]  #Función a integrar\n",
    " #   return f"
   ]
  },
  {
   "cell_type": "code",
   "execution_count": 3,
   "metadata": {},
   "outputs": [],
   "source": [
    "#Creamos una instancia para resolver la ecuación diferencial a través del método 'dopri5'\n",
    "#solver = ode(f)\n",
    "#solver.set_integrator('dopri5')"
   ]
  },
  {
   "cell_type": "code",
   "execution_count": 4,
   "metadata": {},
   "outputs": [],
   "source": [
    "#Especificamos los parámetros de la ecuación a nuestra función\n",
    "#γ = 1.0\n",
    "#α = 1.0\n",
    "#β = 0.04\n",
    "#δ = 0.1\n",
    "#ω = - 0.1\n",
    "#val = δ, α, β, γ, ω                      \n",
    "#solver.set_f_params(val)"
   ]
  },
  {
   "cell_type": "code",
   "execution_count": 5,
   "metadata": {},
   "outputs": [],
   "source": [
    "# Fijamos el valor inical x(0) = x0\n",
    "#t0 = 0.0\n",
    "#x0 = [0.0, 5]\n",
    "#solver.set_initial_value(x0, t0)"
   ]
  },
  {
   "cell_type": "code",
   "execution_count": 6,
   "metadata": {},
   "outputs": [],
   "source": [
    "#Creamos un arreglo de valores de tiempo t para los cuales evalue la solución; creamos también un arreglo que almacene\n",
    "#los valores obtenidos\n",
    "\n",
    "#t1 = 2.5\n",
    "#n = 75\n",
    "#t = np.linspace(t0, t1, n)\n",
    "#sol = np.empty((n, 2))\n",
    "#sol[0] = x0"
   ]
  },
  {
   "cell_type": "code",
   "execution_count": 7,
   "metadata": {},
   "outputs": [],
   "source": [
    "#Llamamos repetidamente al integrador para que avance en la solución un tiempo 'k'\n",
    "#ω = - 0.1\n",
    "#k = 1\n",
    "#graf = []\n",
    "\n",
    "#while solver.successful() and solver.t < t1:\n",
    "#    solver.integrate(t[k])\n",
    "#    sol[k] = solver.y\n",
    "#    k += 1\n",
    "   "
   ]
  },
  {
   "cell_type": "code",
   "execution_count": 9,
   "metadata": {},
   "outputs": [],
   "source": [
    "graf1 = []  #Gráfica de ida\n",
    "graf2 = []  #Gráfica de vuelta\n",
    "w1 = []\n",
    "w2 = []\n",
    "\n",
    "#Establecemos el número de puntos donde evaluaremos la función diferencial\n",
    "pts = 100\n",
    "    \n",
    "#Definimos nuestra ecuación diferencial\n",
    "def f(t, z, p):\n",
    "    #----------------------------------------------\n",
    "    # Lado derecho de las ecuaciones diferenciales\n",
    "    #  dx/dt = y\n",
    "    #  dy/dt = - δ*y - α*dx - β*x**3 + γ*cos(ω*t)\n",
    "    #----------------------------------------------\n",
    "        \n",
    "    δ, α, β, γ, ω = p                           #Parámetros de nuestra integral\n",
    "    x, y = z                                    #Parámetros de integración\n",
    "    f = [y, - δ*y - α*x - β*x**3 + γ*cos(ω*t)]  #Función a integrar\n",
    "    \n",
    "    return f\n",
    "    \n",
    "#Creamos una instancia para resolver la ecuación diferencial a través del método 'dopri5'\n",
    "solver = ode(f)\n",
    "solver.set_integrator('dopri5')\n",
    "    \n",
    "#Especificamos los parámetros de la ecuación a nuestra función\n",
    "γ = 1.0\n",
    "α = 1.0\n",
    "β = 0.01\n",
    "δ = 0.1\n",
    "omega = np.linspace(0, 2.5, pts)\n",
    "        \n",
    "t0 = 0.0\n",
    "z0 = [1.0, 0.0] \n",
    "z = 0\n",
    "for i in range(0,pts):\n",
    "     \n",
    "    ω = omega[i]\n",
    "    val = δ, α, β, γ, ω                      \n",
    "    solver.set_f_params(val)\n",
    "    \n",
    "    \n",
    " #   if z == aux:\n",
    "  #      ω = omega[i-1]\n",
    "   #     val = δ, α, β, γ, ω                      \n",
    "   #     solver.set_f_params(val)\n",
    "  #  elif z != aux:\n",
    "   #     ω = omega[i]\n",
    "    #    val = δ, α, β, γ, ω                      \n",
    "     #   solver.set_f_params(val)\n",
    "    \n",
    "    \n",
    "    # Fijamos el valor inical z(0) = z0\n",
    "    solver.set_initial_value(z0, t0)\n",
    "    \n",
    "    #Creamos un arreglo de valores de tiempo t para los cuales evalue la solución; creamos también un arreglo que \n",
    "    #almacene los valores obtenidos\n",
    "    t1 = 20\n",
    "    n = 400\n",
    "    t = np.linspace(t0, t1, n)\n",
    "    sol = np.empty((n, 2))\n",
    "    sol[0] = z0\n",
    "    \n",
    "    #Llamamos repetidamente al integrador para que avance en la solución un tiempo 'k'\n",
    "    k = 1\n",
    "    \n",
    "    while solver.successful() and solver.t < t1:\n",
    "        solver.integrate(t[k])\n",
    "        sol[k] = solver.y\n",
    "        k += 1\n",
    "        \n",
    "    x1 = sol[:,0]\n",
    "    y1 = sol[:,1]\n",
    "                \n",
    "    #Actualizamos las condiciones iniciales\n",
    "    t0 = 0.0\n",
    "    z0 = [max(x1),0]\n",
    "    w1.append(ω)\n",
    "    graf1.append(z0[0])\n",
    "     \n",
    "\n",
    "    \n",
    "    \n",
    "t0 = 0.0\n",
    "z0 = [1.0,0.0]\n",
    "\n",
    "for j in range(0,pts):\n",
    "    \n",
    "    if omega[-j]==0.0:\n",
    "        ω = 2.5\n",
    "        val = δ, α, β, γ, ω                      \n",
    "        solver.set_f_params(val)\n",
    "    else:\n",
    "        ω = omega[-j]\n",
    "        val = δ, α, β, γ, ω                      \n",
    "        solver.set_f_params(val)\n",
    "    \n",
    "    # Al ser la gráfica de vuelta, las condiciones iniciales serán las que eran en la última iteración de la ida\n",
    "    solver.set_initial_value(z0, t0)\n",
    "    \n",
    "    #Creamos un arreglo de valores de tiempo t para los cuales evalue la solución; creamos también un arreglo que \n",
    "    #almacene los valores obtenidos\n",
    "    t1 = 20\n",
    "    n = 400\n",
    "    t = np.linspace(t0, t1, n)\n",
    "    sol = np.empty((n, 2))\n",
    "    sol[0] = z0\n",
    "    \n",
    "    #Llamamos repetidamente al integrador para que avance en la solución un tiempo 'k'\n",
    "    k = 1\n",
    "    \n",
    "    while solver.successful() and solver.t < t1:\n",
    "        solver.integrate(t[k])\n",
    "        sol[k] = solver.y\n",
    "        k += 1\n",
    "        \n",
    "    x2 = sol[:,0]\n",
    "    y2 = sol[:,1]\n",
    "    \n",
    "    #Actualizamos las condiciones iniciales\n",
    "    t0 = 0.0\n",
    "    z0 = [max(x2),0]\n",
    "    w2.append(ω)\n",
    "    graf2.append(z0[0])"
   ]
  },
  {
   "cell_type": "code",
   "execution_count": 10,
   "metadata": {},
   "outputs": [
    {
     "data": {
      "image/png": "[encoded data removed]",
      "text/plain": [
       "<Figure size 432x288 with 1 Axes>"
      ]
     },
     "metadata": {
      "needs_background": "light"
     },
     "output_type": "display_data"
    }
   ],
   "source": [
    "# Graficamos la solución\n",
    "\n",
    "plt.plot(w1, graf1, label='ida',marker='.',color='b')\n",
    "plt.plot(w2, graf2, label='vuelta',marker='x',color='r')\n",
    "plt.xlabel('ω/√α')\n",
    "plt.ylabel('z/γ')\n",
    "plt.grid(True)\n",
    "plt.legend()\n",
    "plt.show()"
   ]
  }
 ],
 "metadata": {
  "kernelspec": {
   "display_name": "Python 3",
   "language": "python",
   "name": "python3"
  },
  "language_info": {
   "codemirror_mode": {
    "name": "ipython",
    "version": 3
   },
   "file_extension": ".py",
   "mimetype": "text/x-python",
   "name": "python",
   "nbconvert_exporter": "python",
   "pygments_lexer": "ipython3",
   "version": "3.7.1"
  }
 },
 "nbformat": 4,
 "nbformat_minor": 2
}
